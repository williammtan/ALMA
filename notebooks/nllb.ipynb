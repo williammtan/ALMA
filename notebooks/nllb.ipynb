{
 "cells": [
  {
   "cell_type": "code",
   "execution_count": 46,
   "id": "5651a1c6-5c3d-43dd-ba86-224a1eba9751",
   "metadata": {
    "scrolled": true
   },
   "outputs": [],
   "source": [
    "from transformers import AutoModelForSeq2SeqLM, AutoTokenizer\n",
    "from tqdm import tqdm\n",
    "\n",
    "tokenizer = AutoTokenizer.from_pretrained(\n",
    "    \"facebook/nllb-200-distilled-600M\", src_lang=\"eng_Latn\"\n",
    ")\n",
    "model = AutoModelForSeq2SeqLM.from_pretrained(\"facebook/nllb-200-distilled-600M\")"
   ]
  },
  {
   "cell_type": "code",
   "execution_count": 50,
   "id": "1f1eb7cd-09ee-4f62-8c3a-9a128adb998f",
   "metadata": {},
   "outputs": [],
   "source": [
    "with open(\"flores-eval/enban/test.en-ban.en\", \"r\") as f:\n",
    "    src_sentences = [s for s in f.read().split('\\n') if s != '']"
   ]
  },
  {
   "cell_type": "code",
   "execution_count": 51,
   "id": "a874bd07-07d2-45db-b024-40758dfb264e",
   "metadata": {},
   "outputs": [],
   "source": [
    "def chunks(lst, n):\n",
    "    \"\"\"Yield successive n-sized chunks from lst.\"\"\"\n",
    "    for i in range(0, len(lst), n):\n",
    "        yield lst[i:i + n]"
   ]
  },
  {
   "cell_type": "code",
   "execution_count": 52,
   "id": "8e6d36b7-2845-4348-ac6f-05a3783aac9f",
   "metadata": {},
   "outputs": [
    {
     "name": "stderr",
     "output_type": "stream",
     "text": [
      " 53%|█████▎    | 33/62 [11:23<10:00, 20.71s/it]\n"
     ]
    }
   ],
   "source": [
    "BATCH_SIZE=32\n",
    "\n",
    "tgt_sentences = []\n",
    "\n",
    "for c in tqdm(chunks(src_sentences, int(len(src_sentences)/32)), total=int(len(src_sentences)/32)):\n",
    "    inputs = tokenizer(c, return_tensors=\"pt\", padding=True)\n",
    "\n",
    "    translated_tokens = model.generate(\n",
    "        inputs[\"input_ids\"], forced_bos_token_id=tokenizer.lang_code_to_id[\"ban_Latn\"], max_length=256\n",
    "    )\n",
    "    tgt_sentences.extend(tokenizer.batch_decode(translated_tokens, skip_special_tokens=True))"
   ]
  },
  {
   "cell_type": "code",
   "execution_count": 53,
   "id": "e8266a06-c459-4d2c-bb3c-cd3e3153f1a0",
   "metadata": {},
   "outputs": [],
   "source": [
    "with open(\"openai/enban/nllb200-response.ban\", \"w\") as f:\n",
    "    f.write('\\n'.join(tgt_sentences))"
   ]
  },
  {
   "cell_type": "code",
   "execution_count": 56,
   "id": "f996e7e4-8bad-4808-8658-d38b97d0da77",
   "metadata": {},
   "outputs": [
    {
     "name": "stderr",
     "output_type": "stream",
     "text": [
      "Explicitly passing a `revision` is encouraged when loading a model with custom code to ensure no malicious code has been contributed in a newer revision.\n"
     ]
    },
    {
     "data": {
      "application/vnd.jupyter.widget-view+json": {
       "model_id": "bc244048e201457cabfa0cc4fab61bcd",
       "version_major": 2,
       "version_minor": 0
      },
      "text/plain": [
       "bahasallamatokenizer.py:   0%|          | 0.00/15.9k [00:00<?, ?B/s]"
      ]
     },
     "metadata": {},
     "output_type": "display_data"
    },
    {
     "data": {
      "application/vnd.jupyter.widget-view+json": {
       "model_id": "ce4a0576c4024af49c5459de8659e2eb",
       "version_major": 2,
       "version_minor": 0
      },
      "text/plain": [
       "tokenizer.model:   0%|          | 0.00/500k [00:00<?, ?B/s]"
      ]
     },
     "metadata": {},
     "output_type": "display_data"
    },
    {
     "data": {
      "application/vnd.jupyter.widget-view+json": {
       "model_id": "e31744c1f70b443689f2b2f252be79d5",
       "version_major": 2,
       "version_minor": 0
      },
      "text/plain": [
       "tokenizer.json:   0%|          | 0.00/2.39M [00:00<?, ?B/s]"
      ]
     },
     "metadata": {},
     "output_type": "display_data"
    },
    {
     "data": {
      "application/vnd.jupyter.widget-view+json": {
       "model_id": "58aed436948c40d5a7d809ab13c283db",
       "version_major": 2,
       "version_minor": 0
      },
      "text/plain": [
       "added_tokens.json:   0%|          | 0.00/58.1k [00:00<?, ?B/s]"
      ]
     },
     "metadata": {},
     "output_type": "display_data"
    },
    {
     "data": {
      "application/vnd.jupyter.widget-view+json": {
       "model_id": "7813c3201983413f93bcf29970c121cf",
       "version_major": 2,
       "version_minor": 0
      },
      "text/plain": [
       "special_tokens_map.json:   0%|          | 0.00/414 [00:00<?, ?B/s]"
      ]
     },
     "metadata": {},
     "output_type": "display_data"
    }
   ],
   "source": [
    "import os\n",
    "os.environ[\"HF_TOKEN\"] = \"hf_xyz\"\n",
    "\n",
    "tokenizer = AutoTokenizer.from_pretrained(\"yellow-AI-NLP/komodo-7b-base\", trust_remote_code=True)\n"
   ]
  },
  {
   "cell_type": "code",
   "execution_count": null,
   "id": "b9bc53f6-02d0-401e-b005-817c0adbdd69",
   "metadata": {},
   "outputs": [],
   "source": [
    "tokenizer.decode(tokenizer(\"Dihari Senin, para ilmuan saking Universitas Kedokteran Stanford mengumumkan sarana penemuan diagnosa baru sane nyilang mengurutkan tipe cells: sebuah chip kecil sane mudah dicetak sane nyilang dibuat nganggen standar inkjet printer sane mungking indik salah satu cent U.S.\")[\"input_ids\"])\n",
    "\n"
   ]
  },
  {
   "cell_type": "code",
   "execution_count": 58,
   "id": "0708de8b-35fa-4607-9d9d-2481efa7ba69",
   "metadata": {},
   "outputs": [
    {
     "data": {
      "text/plain": [
       "'<s> Di hari Senin, para ilmuan saking Universitas Kedokteran Stanford mengumumkan sarana penemuan diagnosa baru sane nyilang mengurutkan tipe cells: sebuah chip kecil sane mudah dicetak sane nyilang dibuat nganggen standar inkjet printer sane mungking indik salah satu cent U.S.'"
      ]
     },
     "execution_count": 58,
     "metadata": {},
     "output_type": "execute_result"
    }
   ],
   "source": [
    "tokenizer.decode([1, 4671, 32954, 33224, 1702, 34037, 273, 32136, 32749, 476, 287, 554, 357, 273, 7813, 4006, 34006, 34236, 6584, 331, 12323, 24876, 3628, 32410, 32083, 7098, 309, 574, 286, 996, 332, 329, 11052, 34111, 9101, 29901, 32978, 29830, 33220, 32083, 33142, 12124, 300, 557, 32083, 7098, 309, 574, 33437, 32104, 1505, 264, 32583, 297, 29895, 4026, 23028, 32083, 32537, 29887, 1399, 638, 32029, 32746, 1644, 501, 29889, 29903, 29889])"
   ]
  }
 ],
 "metadata": {
  "kernelspec": {
   "display_name": "Python 3 (ipykernel)",
   "language": "python",
   "name": "python3"
  },
  "language_info": {
   "codemirror_mode": {
    "name": "ipython",
    "version": 3
   },
   "file_extension": ".py",
   "mimetype": "text/x-python",
   "name": "python",
   "nbconvert_exporter": "python",
   "pygments_lexer": "ipython3",
   "version": "3.10.13"
  }
 },
 "nbformat": 4,
 "nbformat_minor": 5
}
